{
  "nbformat": 4,
  "nbformat_minor": 0,
  "metadata": {
    "colab": {
      "provenance": [],
      "authorship_tag": "ABX9TyPETTqPpLqd7JZBnrLuTWgH",
      "include_colab_link": true
    },
    "kernelspec": {
      "name": "python3",
      "display_name": "Python 3"
    },
    "language_info": {
      "name": "python"
    }
  },
  "cells": [
    {
      "cell_type": "markdown",
      "metadata": {
        "id": "view-in-github",
        "colab_type": "text"
      },
      "source": [
        "<a href=\"https://colab.research.google.com/github/Vamshika03/Python-Programming/blob/main/Untitled2.ipynb\" target=\"_parent\"><img src=\"https://colab.research.google.com/assets/colab-badge.svg\" alt=\"Open In Colab\"/></a>"
      ]
    },
    {
      "cell_type": "code",
      "execution_count": 3,
      "metadata": {
        "id": "v-JEEIVUuBew"
      },
      "outputs": [],
      "source": [
        "file = open(\"harry_potter.txt\",\"r\")\n",
        "data = file.read()"
      ]
    },
    {
      "cell_type": "code",
      "source": [
        "data"
      ],
      "metadata": {
        "colab": {
          "base_uri": "https://localhost:8080/",
          "height": 53
        },
        "id": "A3JPgmScuLnb",
        "outputId": "59806f4f-2a92-42dd-fc73-63fd3517d8aa"
      },
      "execution_count": 4,
      "outputs": [
        {
          "output_type": "execute_result",
          "data": {
            "text/plain": [
              "\"Harry Potter\\nPhilosopher's Stone (1997)\\nChamber of Secrets (1998)\\nPrisoner of Azkaban (1999)\\nGoblet of Fire (2000)\\nOrder of the Phoenix (2003)\\nHalf-Blood Prince (2005)\\nDeathly Hallows (2007)\\nJK Rowling\\n\\n\""
            ],
            "application/vnd.google.colaboratory.intrinsic+json": {
              "type": "string"
            }
          },
          "metadata": {},
          "execution_count": 4
        }
      ]
    },
    {
      "cell_type": "code",
      "source": [
        "splittedData = data.split('\\n')\n",
        "splittedData"
      ],
      "metadata": {
        "colab": {
          "base_uri": "https://localhost:8080/"
        },
        "id": "PoKkPF3Uwdbz",
        "outputId": "a3d00b48-82b7-490b-ab15-d319c69242a0"
      },
      "execution_count": 5,
      "outputs": [
        {
          "output_type": "execute_result",
          "data": {
            "text/plain": [
              "['Harry Potter',\n",
              " \"Philosopher's Stone (1997)\",\n",
              " 'Chamber of Secrets (1998)',\n",
              " 'Prisoner of Azkaban (1999)',\n",
              " 'Goblet of Fire (2000)',\n",
              " 'Order of the Phoenix (2003)',\n",
              " 'Half-Blood Prince (2005)',\n",
              " 'Deathly Hallows (2007)',\n",
              " 'JK Rowling',\n",
              " '',\n",
              " '']"
            ]
          },
          "metadata": {},
          "execution_count": 5
        }
      ]
    },
    {
      "cell_type": "code",
      "source": [
        "key=splittedData[1]"
      ],
      "metadata": {
        "id": "M0OcP845wwcf"
      },
      "execution_count": 6,
      "outputs": []
    },
    {
      "cell_type": "code",
      "source": [
        "key"
      ],
      "metadata": {
        "colab": {
          "base_uri": "https://localhost:8080/",
          "height": 35
        },
        "id": "k59DgKRLxD2z",
        "outputId": "19151e1b-d00c-479a-bfdb-6a40abd2416b"
      },
      "execution_count": 7,
      "outputs": [
        {
          "output_type": "execute_result",
          "data": {
            "text/plain": [
              "\"Philosopher's Stone (1997)\""
            ],
            "application/vnd.google.colaboratory.intrinsic+json": {
              "type": "string"
            }
          },
          "metadata": {},
          "execution_count": 7
        }
      ]
    },
    {
      "cell_type": "code",
      "source": [
        "key=splittedData[0]"
      ],
      "metadata": {
        "id": "9s1N3ASmxE5M"
      },
      "execution_count": 8,
      "outputs": []
    },
    {
      "cell_type": "code",
      "source": [
        "key"
      ],
      "metadata": {
        "colab": {
          "base_uri": "https://localhost:8080/",
          "height": 35
        },
        "id": "GF0ByL9MxILc",
        "outputId": "b75c9755-d45f-4ee2-fefb-74d7e2dac300"
      },
      "execution_count": 9,
      "outputs": [
        {
          "output_type": "execute_result",
          "data": {
            "text/plain": [
              "'Harry Potter'"
            ],
            "application/vnd.google.colaboratory.intrinsic+json": {
              "type": "string"
            }
          },
          "metadata": {},
          "execution_count": 9
        }
      ]
    },
    {
      "cell_type": "code",
      "source": [
        "author=splittedData[-3]"
      ],
      "metadata": {
        "id": "Pr3eZh1dxJb2"
      },
      "execution_count": 14,
      "outputs": []
    },
    {
      "cell_type": "code",
      "source": [
        "author"
      ],
      "metadata": {
        "colab": {
          "base_uri": "https://localhost:8080/",
          "height": 35
        },
        "id": "Cv3hm0PuxUPv",
        "outputId": "323ad232-362b-41e2-ab8c-4967f3f2d84e"
      },
      "execution_count": 15,
      "outputs": [
        {
          "output_type": "execute_result",
          "data": {
            "text/plain": [
              "'JK Rowling'"
            ],
            "application/vnd.google.colaboratory.intrinsic+json": {
              "type": "string"
            }
          },
          "metadata": {},
          "execution_count": 15
        }
      ]
    },
    {
      "cell_type": "code",
      "source": [
        "titleYear=splittedData[1:-3]"
      ],
      "metadata": {
        "id": "i5lv17vixVai"
      },
      "execution_count": 18,
      "outputs": []
    },
    {
      "cell_type": "code",
      "source": [
        "titleYear"
      ],
      "metadata": {
        "colab": {
          "base_uri": "https://localhost:8080/"
        },
        "id": "vn6B4Aivx08u",
        "outputId": "2e59329c-9ece-474a-f2b7-df2311f61bd5"
      },
      "execution_count": 19,
      "outputs": [
        {
          "output_type": "execute_result",
          "data": {
            "text/plain": [
              "[\"Philosopher's Stone (1997)\",\n",
              " 'Chamber of Secrets (1998)',\n",
              " 'Prisoner of Azkaban (1999)',\n",
              " 'Goblet of Fire (2000)',\n",
              " 'Order of the Phoenix (2003)',\n",
              " 'Half-Blood Prince (2005)',\n",
              " 'Deathly Hallows (2007)']"
            ]
          },
          "metadata": {},
          "execution_count": 19
        }
      ]
    },
    {
      "cell_type": "code",
      "source": [
        "D={}\n",
        "i=0\n",
        "for i in range(len(titleYear)):\n",
        "  dkey = key + \" \" +str(i+1)\n",
        "  D[dkey]=None"
      ],
      "metadata": {
        "id": "LJEPHXVjx2jB"
      },
      "execution_count": 22,
      "outputs": []
    },
    {
      "cell_type": "code",
      "source": [
        "D"
      ],
      "metadata": {
        "colab": {
          "base_uri": "https://localhost:8080/"
        },
        "id": "Mqlk7CH2yWw6",
        "outputId": "e0bc073d-22ab-4306-cb12-4c95e3e0978b"
      },
      "execution_count": 23,
      "outputs": [
        {
          "output_type": "execute_result",
          "data": {
            "text/plain": [
              "{'Harry Potter 1': None,\n",
              " 'Harry Potter 2': None,\n",
              " 'Harry Potter 3': None,\n",
              " 'Harry Potter 4': None,\n",
              " 'Harry Potter 5': None,\n",
              " 'Harry Potter 6': None,\n",
              " 'Harry Potter 7': None}"
            ]
          },
          "metadata": {},
          "execution_count": 23
        }
      ]
    },
    {
      "cell_type": "code",
      "source": [
        "titleList=[]\n",
        "yearLIst=[]\n",
        "for i in titleYear:\n",
        "  temp=i.split('(')\n",
        "  print(temp[0].strip())\n",
        "  print(temp[1].strip()[:-1])\n",
        ""
      ],
      "metadata": {
        "colab": {
          "base_uri": "https://localhost:8080/"
        },
        "id": "5EB_aDpHylmP",
        "outputId": "5a400390-3ce5-4835-9b0d-a4dde2b89c4e"
      },
      "execution_count": 28,
      "outputs": [
        {
          "output_type": "stream",
          "name": "stdout",
          "text": [
            "Philosopher's Stone\n",
            "1997\n",
            "Chamber of Secrets\n",
            "1998\n",
            "Prisoner of Azkaban\n",
            "1999\n",
            "Goblet of Fire\n",
            "2000\n",
            "Order of the Phoenix\n",
            "2003\n",
            "Half-Blood Prince\n",
            "2005\n",
            "Deathly Hallows\n",
            "2007\n"
          ]
        }
      ]
    },
    {
      "cell_type": "code",
      "source": [
        "titleList=[]\n",
        "yearLIst=[]\n",
        "for i in titleYear:\n",
        "  temp=(i.split('('))\n",
        "  titleList.append(temp[0].strip())\n",
        "  yearLIst.append(temp[1].strip()[:-1])"
      ],
      "metadata": {
        "id": "uXTJeTgl2aif"
      },
      "execution_count": 30,
      "outputs": []
    },
    {
      "cell_type": "code",
      "source": [
        "titleList"
      ],
      "metadata": {
        "colab": {
          "base_uri": "https://localhost:8080/"
        },
        "id": "f80UpmklAeOQ",
        "outputId": "3ebd4c00-78a6-4b03-a26b-a958e360c590"
      },
      "execution_count": 31,
      "outputs": [
        {
          "output_type": "execute_result",
          "data": {
            "text/plain": [
              "[\"Philosopher's Stone\",\n",
              " 'Chamber of Secrets',\n",
              " 'Prisoner of Azkaban',\n",
              " 'Goblet of Fire',\n",
              " 'Order of the Phoenix',\n",
              " 'Half-Blood Prince',\n",
              " 'Deathly Hallows']"
            ]
          },
          "metadata": {},
          "execution_count": 31
        }
      ]
    },
    {
      "cell_type": "code",
      "source": [
        "yearLIst\n"
      ],
      "metadata": {
        "colab": {
          "base_uri": "https://localhost:8080/"
        },
        "id": "2gJ6F85CAjXv",
        "outputId": "893a777a-e116-42b6-e359-e3c03cf91c83"
      },
      "execution_count": 32,
      "outputs": [
        {
          "output_type": "execute_result",
          "data": {
            "text/plain": [
              "['1997', '1998', '1999', '2000', '2003', '2005', '2007']"
            ]
          },
          "metadata": {},
          "execution_count": 32
        }
      ]
    },
    {
      "cell_type": "code",
      "source": [
        "i=0\n",
        "for key in D:\n",
        "  D[key]={\"title\": titleList[i],\"year\": yearLIst[i],\"author\":author}\n",
        "  i+1\n",
        "D"
      ],
      "metadata": {
        "colab": {
          "base_uri": "https://localhost:8080/"
        },
        "id": "WNrpdi0iAloK",
        "outputId": "3c938957-d945-4bf8-f8a0-2b01ffb28dca"
      },
      "execution_count": 35,
      "outputs": [
        {
          "output_type": "execute_result",
          "data": {
            "text/plain": [
              "{'Harry Potter 1': {'title': \"Philosopher's Stone\",\n",
              "  'year': '1997',\n",
              "  'author': 'JK Rowling'},\n",
              " 'Harry Potter 2': {'title': \"Philosopher's Stone\",\n",
              "  'year': '1997',\n",
              "  'author': 'JK Rowling'},\n",
              " 'Harry Potter 3': {'title': \"Philosopher's Stone\",\n",
              "  'year': '1997',\n",
              "  'author': 'JK Rowling'},\n",
              " 'Harry Potter 4': {'title': \"Philosopher's Stone\",\n",
              "  'year': '1997',\n",
              "  'author': 'JK Rowling'},\n",
              " 'Harry Potter 5': {'title': \"Philosopher's Stone\",\n",
              "  'year': '1997',\n",
              "  'author': 'JK Rowling'},\n",
              " 'Harry Potter 6': {'title': \"Philosopher's Stone\",\n",
              "  'year': '1997',\n",
              "  'author': 'JK Rowling'},\n",
              " 'Harry Potter 7': {'title': \"Philosopher's Stone\",\n",
              "  'year': '1997',\n",
              "  'author': 'JK Rowling'}}"
            ]
          },
          "metadata": {},
          "execution_count": 35
        }
      ]
    },
    {
      "cell_type": "code",
      "source": [
        "for key in D:\n",
        "  print(key,D[key])"
      ],
      "metadata": {
        "colab": {
          "base_uri": "https://localhost:8080/"
        },
        "id": "aYjU1Tb0FlqX",
        "outputId": "5ee41cad-f916-419a-e2c0-7ac82a30e319"
      },
      "execution_count": 36,
      "outputs": [
        {
          "output_type": "stream",
          "name": "stdout",
          "text": [
            "Harry Potter 1 {'title': \"Philosopher's Stone\", 'year': '1997', 'author': 'JK Rowling'}\n",
            "Harry Potter 2 {'title': \"Philosopher's Stone\", 'year': '1997', 'author': 'JK Rowling'}\n",
            "Harry Potter 3 {'title': \"Philosopher's Stone\", 'year': '1997', 'author': 'JK Rowling'}\n",
            "Harry Potter 4 {'title': \"Philosopher's Stone\", 'year': '1997', 'author': 'JK Rowling'}\n",
            "Harry Potter 5 {'title': \"Philosopher's Stone\", 'year': '1997', 'author': 'JK Rowling'}\n",
            "Harry Potter 6 {'title': \"Philosopher's Stone\", 'year': '1997', 'author': 'JK Rowling'}\n",
            "Harry Potter 7 {'title': \"Philosopher's Stone\", 'year': '1997', 'author': 'JK Rowling'}\n"
          ]
        }
      ]
    },
    {
      "cell_type": "code",
      "source": [],
      "metadata": {
        "id": "bNf2QcdQF3HS"
      },
      "execution_count": null,
      "outputs": []
    }
  ]
}